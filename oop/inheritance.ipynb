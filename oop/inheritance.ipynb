{
 "cells": [
  {
   "cell_type": "markdown",
   "metadata": {},
   "source": [
    "### Inheritance\n",
    "\n",
    "References: \n",
    "\n",
    "    1. https://www.youtube.com/watch?v=RSl87lqOXDE\n",
    "\n",
    "    2. https://stackoverflow.com/questions/31062946/python-inheritance-concatenating-with-super-str\n",
    "\n",
    "\n",
    "Key learning:\n",
    "\n",
    "    a. inheritance chain aka method resolution order\n",
    "        * use help(child class) to view method resolution order\n",
    "    b. use of __str__ in inheritance \n",
    "    c. introduction to **isinstance** and **issubclass**"
   ]
  },
  {
   "cell_type": "markdown",
   "metadata": {},
   "source": [
    "#### A simple example of an inheritance"
   ]
  },
  {
   "cell_type": "code",
   "execution_count": 31,
   "metadata": {},
   "outputs": [],
   "source": [
    "# Parent Class\n",
    "\n",
    "class Employee:\n",
    "\n",
    "    raise_amount = 1.04\n",
    "\n",
    "    def __init__(self, first: str, last: str, pay:float) -> None:\n",
    "        self.first = first\n",
    "        self.last = last\n",
    "        self.pay = pay\n",
    "\n",
    "    def full_name(self):\n",
    "        return f'{self.first} {self.last}'\n",
    "\n",
    "    def apply_raise(self):\n",
    "        self.pay = int(self.pay * self.raise_amount)\n",
    "\n",
    "    def __str__(self) -> str:\n",
    "        message = (\n",
    "            f\"{self.first}.{self.last}@email.com\\n\"\n",
    "            f\"Pay: {self.pay}\"\n",
    "            )\n",
    "        return message\n",
    "\n",
    "\n",
    "# Child class\n",
    "\n",
    "class Developer(Employee):\n",
    "    pass"
   ]
  },
  {
   "cell_type": "code",
   "execution_count": 32,
   "metadata": {},
   "outputs": [
    {
     "name": "stdout",
     "output_type": "stream",
     "text": [
      "Corey.Schafer@email.com\n",
      "Pay: 5000\n",
      "Test.Employee@email.com\n",
      "Pay: 7000\n"
     ]
    }
   ],
   "source": [
    "dev_1 = Developer('Corey', 'Schafer', 5000)\n",
    "dev_2 = Developer('Test', 'Employee', 7000)\n",
    "print(dev_1)\n",
    "print(dev_2)\n"
   ]
  },
  {
   "cell_type": "code",
   "execution_count": 33,
   "metadata": {},
   "outputs": [
    {
     "name": "stdout",
     "output_type": "stream",
     "text": [
      "Help on class Developer in module __main__:\n",
      "\n",
      "class Developer(Employee)\n",
      " |  Developer(first: str, last: str, pay: float) -> None\n",
      " |  \n",
      " |  Method resolution order:\n",
      " |      Developer\n",
      " |      Employee\n",
      " |      builtins.object\n",
      " |  \n",
      " |  Methods inherited from Employee:\n",
      " |  \n",
      " |  __init__(self, first: str, last: str, pay: float) -> None\n",
      " |      Initialize self.  See help(type(self)) for accurate signature.\n",
      " |  \n",
      " |  __str__(self) -> str\n",
      " |      Return str(self).\n",
      " |  \n",
      " |  apply_raise(self)\n",
      " |  \n",
      " |  full_name(self)\n",
      " |  \n",
      " |  ----------------------------------------------------------------------\n",
      " |  Data descriptors inherited from Employee:\n",
      " |  \n",
      " |  __dict__\n",
      " |      dictionary for instance variables (if defined)\n",
      " |  \n",
      " |  __weakref__\n",
      " |      list of weak references to the object (if defined)\n",
      " |  \n",
      " |  ----------------------------------------------------------------------\n",
      " |  Data and other attributes inherited from Employee:\n",
      " |  \n",
      " |  raise_amount = 1.04\n",
      "\n"
     ]
    }
   ],
   "source": [
    "# Check Method resolution order\n",
    "# Developer -> Employee --> Builtin\n",
    "help(Developer)"
   ]
  },
  {
   "cell_type": "code",
   "execution_count": 34,
   "metadata": {},
   "outputs": [
    {
     "name": "stdout",
     "output_type": "stream",
     "text": [
      "Corey.Schafer@email.com\n",
      "Pay: 5000\n",
      "Corey.Schafer@email.com\n",
      "Pay: 5200\n"
     ]
    }
   ],
   "source": [
    "dev_1 = Developer('Corey', 'Schafer', 5000)\n",
    "print(dev_1)\n",
    "dev_1.apply_raise()\n",
    "print(dev_1)"
   ]
  },
  {
   "cell_type": "code",
   "execution_count": 35,
   "metadata": {},
   "outputs": [
    {
     "name": "stdout",
     "output_type": "stream",
     "text": [
      "Corey.Schafer@email.com\n",
      "Pay: 5000\n",
      "Corey.Schafer@email.com\n",
      "Pay: 5200\n"
     ]
    }
   ],
   "source": [
    "# Modifying Child class does not change parent class\n",
    "\n",
    "class Developer(Employee):\n",
    "    raise_amt = 1.10\n",
    "\n",
    "dev_1 = Developer('Corey', 'Schafer', 5000)\n",
    "print(dev_1)\n",
    "dev_1.apply_raise()\n",
    "print(dev_1)"
   ]
  },
  {
   "cell_type": "markdown",
   "metadata": {},
   "source": [
    "#### Add features in a child class"
   ]
  },
  {
   "cell_type": "code",
   "execution_count": 43,
   "metadata": {},
   "outputs": [
    {
     "name": "stdout",
     "output_type": "stream",
     "text": [
      "Corey.Schafer@email.com\n",
      "Pay: 5000\n",
      "Programming language: Python\n",
      "Test.Employee@email.com\n",
      "Pay: 7000\n",
      "Programming language: Java\n"
     ]
    }
   ],
   "source": [
    "class Developer(Employee):\n",
    "\n",
    "    raise_amt = 1.10\n",
    "\n",
    "    def __init__(self, first: str, last: str, pay: float, prog_lang: str) -> None:\n",
    "        super().__init__(first, last, pay)\n",
    "        self.prog_lang = prog_lang\n",
    "        \n",
    "    def __str__(self) -> str:\n",
    "        parent_message = super().__str__()\n",
    "        message = (f\"{parent_message}\\n\"\n",
    "            f\"Programming language: {self.prog_lang}\")\n",
    "        return message\n",
    "\n",
    "dev_1 = Developer('Corey', 'Schafer', 5000, 'Python')\n",
    "print(dev_1)\n",
    "dev_2 = Developer('Test', 'Employee', 7000, 'Java')\n",
    "print(dev_2)"
   ]
  },
  {
   "cell_type": "markdown",
   "metadata": {},
   "source": [
    "#### Create multiple child classes"
   ]
  },
  {
   "cell_type": "code",
   "execution_count": 51,
   "metadata": {},
   "outputs": [],
   "source": [
    "from typing import List\n",
    "\n",
    "class Manager(Employee):\n",
    "\n",
    "    raise_amt = 1.10\n",
    "\n",
    "    def __init__(self, first: str, last: str, \n",
    "                 pay: float, employees: List[object] = None) -> None:\n",
    "        super().__init__(first, last, pay)\n",
    "        \n",
    "        if employees is None:\n",
    "            self.employees = []\n",
    "        else:\n",
    "            self.employees = employees\n",
    "\n",
    "    def add_emp(self, emp: str) -> None:\n",
    "        if emp not in self.employees:\n",
    "            self.employees.append(emp)\n",
    "\n",
    "    def remove_emp(self, emp: str) -> None:\n",
    "        if emp not in self.employees:\n",
    "            self.employees.remove(emp)\n",
    "\n",
    "    def print_emps(self) -> None:\n",
    "        for emp in self.employees:\n",
    "            print('-->', emp.full_name())"
   ]
  },
  {
   "cell_type": "code",
   "execution_count": 56,
   "metadata": {},
   "outputs": [
    {
     "name": "stdout",
     "output_type": "stream",
     "text": [
      "--> Corey Schafer\n",
      "--> Corey Schafer\n",
      "--> Test Employee\n"
     ]
    }
   ],
   "source": [
    "dev_1 = Developer('Corey', 'Schafer', 5000, 'Python')\n",
    "dev_2 = Developer('Test', 'Employee', 7000, 'Java')\n",
    "\n",
    "mgr_1 = Manager('Sue', 'Smith', 9000, [dev_1])\n",
    "\n",
    "mgr_1.print_emps()\n",
    "\n",
    "mgr_1.add_emp(dev_2)\n",
    "\n",
    "mgr_1.print_emps()"
   ]
  },
  {
   "cell_type": "code",
   "execution_count": 62,
   "metadata": {},
   "outputs": [
    {
     "name": "stdout",
     "output_type": "stream",
     "text": [
      "True\n",
      "True\n",
      "True\n"
     ]
    }
   ],
   "source": [
    "##mgr is an instance of employee\n",
    "print(isinstance(mgr_1, Employee))\n",
    "\n",
    "##dev is an instance of employee\n",
    "print(isinstance(dev_1, Employee))\n",
    "\n",
    "##Developer is a sub class\n",
    "print(issubclass(Developer, Employee))"
   ]
  }
 ],
 "metadata": {
  "interpreter": {
   "hash": "767d51c1340bd893661ea55ea3124f6de3c7a262a8b4abca0554b478b1e2ff90"
  },
  "kernelspec": {
   "display_name": "Python 2.7.16 64-bit",
   "language": "python",
   "name": "python3"
  },
  "language_info": {
   "codemirror_mode": {
    "name": "ipython",
    "version": 3
   },
   "file_extension": ".py",
   "mimetype": "text/x-python",
   "name": "python",
   "nbconvert_exporter": "python",
   "pygments_lexer": "ipython3",
   "version": "3.8.11"
  },
  "orig_nbformat": 4
 },
 "nbformat": 4,
 "nbformat_minor": 2
}
