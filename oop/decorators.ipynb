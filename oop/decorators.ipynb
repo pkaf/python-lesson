{
 "cells": [
  {
   "cell_type": "markdown",
   "metadata": {},
   "source": [
    "### Decorators: get, set, del\n",
    "\n",
    "Reference: \n",
    "\n",
    "1. https://www.youtube.com/watch?v=jCzT9XFZ5bw\n",
    "\n",
    "Key learning:\n",
    "\n",
    "a. "
   ]
  },
  {
   "cell_type": "code",
   "execution_count": null,
   "metadata": {},
   "outputs": [],
   "source": []
  }
 ],
 "metadata": {
  "language_info": {
   "name": "python"
  },
  "orig_nbformat": 4
 },
 "nbformat": 4,
 "nbformat_minor": 2
}
