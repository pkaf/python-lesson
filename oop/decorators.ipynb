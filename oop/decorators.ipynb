{
 "cells": [
  {
   "cell_type": "markdown",
   "metadata": {},
   "source": [
    "### Decorators: get, set, del\n",
    "\n",
    "Reference: \n",
    "\n",
    "1. https://www.youtube.com/watch?v=jCzT9XFZ5bw\n",
    "\n",
    "2. https://www.geeksforgeeks.org/getter-and-setter-in-python/\n",
    "\n",
    "Key learning:\n",
    "\n",
    "a. use @property, @<propertyname>.setter and @<propertyname>.getter instead of get_name, set_name methods \n",
    "b. The main purpose of any decorator is to change your class methods or attributes in such a way so that the user of your class no need to make any change in their code."
   ]
  },
  {
   "cell_type": "code",
   "execution_count": 21,
   "metadata": {},
   "outputs": [],
   "source": [
    "# Use of decorators\n",
    "\n",
    "class Employee:\n",
    "\n",
    "    def __init__(self, first, last) -> None:\n",
    "        self.first = first\n",
    "        self.last = last\n",
    "\n",
    "    @property\n",
    "    def full_name(self) -> str:\n",
    "        print(\"getter method called\")\n",
    "        fullname = f\"{self.first} {self.last}\"\n",
    "        return fullname\n",
    "\n",
    "    @property\n",
    "    def email_name(self) -> str:\n",
    "        print(\"getter method called\")\n",
    "        email = f\"{self.first}.{self.last}@email.com\"\n",
    "        return email\n",
    "\n",
    "    @full_name.setter\n",
    "    def full_name(self, name):\n",
    "        print(\"setter method called\")\n",
    "        first, last = name.split(' ')\n",
    "\n",
    "        self.first = first\n",
    "        self.last = last\n",
    "\n",
    "    @full_name.deleter\n",
    "    def full_name(self):\n",
    "        print(\"deleter method called\")\n",
    "        self.first = None\n",
    "        self.last = None"
   ]
  },
  {
   "cell_type": "code",
   "execution_count": 23,
   "metadata": {},
   "outputs": [
    {
     "name": "stdout",
     "output_type": "stream",
     "text": [
      "------ direct assignment--\n",
      "getter method called\n",
      "Ani Jackson\n",
      "getter method called\n",
      "Ani.Jackson@email.com\n",
      "getter method called\n",
      "Peter Jackson\n",
      "getter method called\n",
      "Peter.Jackson@email.com\n",
      "--- setter approach ------\n",
      "getter method called\n",
      "Ani Jackson\n",
      "getter method called\n",
      "Ani.Jackson@email.com\n",
      "setter method called\n",
      "getter method called\n",
      "Peter Jackson\n",
      "getter method called\n",
      "Peter.Jackson@email.com\n",
      "deleter method called\n",
      "getter method called\n",
      "None None\n",
      "getter method called\n",
      "None.None@email.com\n"
     ]
    }
   ],
   "source": [
    "# Direct assignment\n",
    "print('------ direct assignment--')\n",
    "emp = Employee('Ani', 'Jackson')\n",
    "print(emp.full_name)\n",
    "print(emp.email_name)\n",
    "\n",
    "emp.first = 'Peter'\n",
    "emp.last = 'Jackson'\n",
    "print(emp.full_name)\n",
    "print(emp.email_name)\n",
    "\n",
    "\n",
    "print('--- setter approach ------')\n",
    "emp = Employee('Ani', 'Jackson')\n",
    "print(emp.full_name)\n",
    "print(emp.email_name)\n",
    "\n",
    "emp.full_name = 'Peter Jackson'\n",
    "print(emp.full_name)\n",
    "print(emp.email_name)\n",
    "\n",
    "\n",
    "del emp.full_name\n",
    "print(emp.full_name)\n",
    "print(emp.email_name)\n",
    "\n"
   ]
  }
 ],
 "metadata": {
  "interpreter": {
   "hash": "767d51c1340bd893661ea55ea3124f6de3c7a262a8b4abca0554b478b1e2ff90"
  },
  "kernelspec": {
   "display_name": "Python 2.7.16 64-bit",
   "language": "python",
   "name": "python3"
  },
  "language_info": {
   "codemirror_mode": {
    "name": "ipython",
    "version": 3
   },
   "file_extension": ".py",
   "mimetype": "text/x-python",
   "name": "python",
   "nbconvert_exporter": "python",
   "pygments_lexer": "ipython3",
   "version": "3.8.11"
  },
  "orig_nbformat": 4
 },
 "nbformat": 4,
 "nbformat_minor": 2
}
