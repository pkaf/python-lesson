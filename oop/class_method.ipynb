{
 "cells": [
  {
   "cell_type": "markdown",
   "metadata": {},
   "source": [
    "### Class variable; Class and Static methods\n",
    "\n",
    "Reference: https://www.youtube.com/watch?v=rq8cL2XMM5M\n",
    "\n",
    "Key learning:\n",
    "\n",
    "    a. Use of class level variable\n",
    "\n",
    "    b. **Regular method**: passes self as first argument\n",
    "\n",
    "    b. **Classmethod** as an alternate constructor. Class method takes cls as first argument\n",
    "\n",
    "    c. **Staticmethod**: static method does not pass cls or instance self. Good practice is to avoid passing instance (self) or cls to static method."
   ]
  },
  {
   "cell_type": "code",
   "execution_count": 4,
   "metadata": {},
   "outputs": [],
   "source": [
    "# Example of class method\n",
    "from typing import ClassVar\n",
    "\n",
    "class Employee:\n",
    "    raise_amt: ClassVar[float]  = 1.04\n",
    "    num_of_emps = 0\n",
    "\n",
    "    def __init__(self, first, last, pay) -> None:\n",
    "        self.first = first\n",
    "        self.last = last\n",
    "        self.pay = pay\n",
    "\n",
    "        Employee.num_of_emps +=1\n",
    "\n",
    "    @classmethod\n",
    "    def set_raise_amt(cls, amount: float) -> None:\n",
    "        \"\"\"\n",
    "        Note cls as a first argument instead of self that is used for regular method\n",
    "        \"\"\"\n",
    "        cls.raise_amt = amount\n",
    "\n",
    "    # Class method as an alternate constructor\n",
    "    @classmethod\n",
    "    def from_string(cls, emp_str: str) -> object:\n",
    "        first, last, pay = emp_str.split('-')\n",
    "        return cls(first, last, pay)\n",
    "\n",
    "    @staticmethod\n",
    "    def is_workday(day: str) -> bool:\n",
    "        if day.weekday() == 5 or day.weekday() == 6:\n",
    "            return False\n",
    "        return True\n",
    "\n",
    "    def __repr__(self) -> str:\n",
    "        out_message = (\n",
    "            f\"Raise amount: {self.raise_amt}\\n\"\n",
    "            f\"Employee count: {self.num_of_emps}\"\n",
    "        )\n",
    "        return out_message"
   ]
  },
  {
   "cell_type": "code",
   "execution_count": 5,
   "metadata": {},
   "outputs": [
    {
     "name": "stdout",
     "output_type": "stream",
     "text": [
      "Regular Approach\n",
      " Raise amount: 1.04\n",
      "Employee count: 1\n",
      "Regular Approach\n",
      " Raise amount: 1.04\n",
      "Employee count: 2\n",
      "Using classmethod constructor \n",
      " Raise amount: 1.05\n",
      "Employee count: 3\n",
      "Using classmethod constructor \n",
      " Raise amount: 2.05\n",
      "Employee count: 4\n"
     ]
    }
   ],
   "source": [
    "# Regular approach\n",
    "emp_1 = Employee('Corey', 'Schafer', 50000)\n",
    "print('Regular Approach\\n', emp_1)\n",
    "\n",
    "emp_2 = Employee('Peter', 'Hangman', 1000)\n",
    "print('Regular Approach\\n', emp_1)\n",
    "\n",
    "# Using classmethod as a constructor\n",
    "emp_str_1 = 'Corey-Schafer-50000'\n",
    "emp_1 = Employee.from_string(emp_str_1)\n",
    "emp_1.raise_amt = 1.05\n",
    "print('Using classmethod constructor \\n', emp_1)\n",
    "\n",
    "# Using classmethod as a constructor\n",
    "emp_str_3 = 'Peter-Hangman-6000'\n",
    "emp_3 = Employee.from_string(emp_str_3)\n",
    "Employee.set_raise_amt(2.05)\n",
    "print('Using classmethod constructor \\n', emp_3)"
   ]
  },
  {
   "cell_type": "code",
   "execution_count": 9,
   "metadata": {},
   "outputs": [
    {
     "data": {
      "text/plain": [
       "True"
      ]
     },
     "execution_count": 9,
     "metadata": {},
     "output_type": "execute_result"
    }
   ],
   "source": [
    "# Static method\n",
    "import datetime\n",
    "my_date = datetime.date(2020, 1, 20)\n",
    "\n",
    "emp_str_3 = 'Peter-Hangman-6000'\n",
    "emp_3 = Employee.from_string(emp_str_3)\n",
    "emp_3.is_workday(my_date)"
   ]
  }
 ],
 "metadata": {
  "interpreter": {
   "hash": "14c6f23af1f50ef88b26182957e1a33032c56835534ac1a12d2635c98ee28193"
  },
  "kernelspec": {
   "display_name": "Python 3.8.11 64-bit ('analytics': conda)",
   "language": "python",
   "name": "python3"
  },
  "language_info": {
   "codemirror_mode": {
    "name": "ipython",
    "version": 3
   },
   "file_extension": ".py",
   "mimetype": "text/x-python",
   "name": "python",
   "nbconvert_exporter": "python",
   "pygments_lexer": "ipython3",
   "version": "3.8.11"
  },
  "orig_nbformat": 4
 },
 "nbformat": 4,
 "nbformat_minor": 2
}
